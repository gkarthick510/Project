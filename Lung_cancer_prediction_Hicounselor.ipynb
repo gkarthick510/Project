{
  "cells": [
    {
      "cell_type": "markdown",
      "metadata": {
        "id": "view-in-github",
        "colab_type": "text"
      },
      "source": [
        "<a href=\"https://colab.research.google.com/github/gkarthick510/Project/blob/main/Lung_cancer_prediction_Hicounselor.ipynb\" target=\"_parent\"><img src=\"https://colab.research.google.com/assets/colab-badge.svg\" alt=\"Open In Colab\"/></a>"
      ]
    },
    {
      "cell_type": "markdown",
      "source": [
        "# **Python**"
      ],
      "metadata": {
        "id": "hYR1iHuf1fSh"
      }
    },
    {
      "cell_type": "markdown",
      "source": [
        "This project aims to comprehensively analyze the Lung Cancer Data Set, highlighting the significant impact of smoking on health, leading to lung cancer. By examining data trends, we'll uncover how smoking relates to lung cancer across different age groups and pinpoint the age group with the highest smoking rates. Through visualization, we'll illuminate the connections between smoking behaviors and their health outcomes, providing insights into the varying effects on different age groups."
      ],
      "metadata": {
        "id": "ZNDmymZf1-r5"
      }
    },
    {
      "cell_type": "code",
      "execution_count": 5,
      "metadata": {
        "id": "Tt-04XaAv-PK"
      },
      "outputs": [],
      "source": [
        "import pandas as pd"
      ]
    },
    {
      "cell_type": "code",
      "execution_count": 6,
      "metadata": {
        "colab": {
          "base_uri": "https://localhost:8080/",
          "height": 206
        },
        "id": "iQMJyeQCwD2t",
        "outputId": "42cb1f94-a5b9-4b71-f4fa-895c214de22c"
      },
      "outputs": [
        {
          "output_type": "execute_result",
          "data": {
            "text/plain": [
              "     Name      Surname  Age  Smokes  AreaQ  Alkhol  Result\n",
              "0    John         Wick   35       3      5       4       1\n",
              "1    John  Constantine   27      20      2       5       1\n",
              "2  Camela     Anderson   30       0      5       2       0\n",
              "3    Alex       Telles   28       0      8       1       0\n",
              "4   Diego     Maradona   68       4      5       6       1"
            ],
            "text/html": [
              "\n",
              "  <div id=\"df-685d7f69-c988-435b-865d-dd0403606da7\" class=\"colab-df-container\">\n",
              "    <div>\n",
              "<style scoped>\n",
              "    .dataframe tbody tr th:only-of-type {\n",
              "        vertical-align: middle;\n",
              "    }\n",
              "\n",
              "    .dataframe tbody tr th {\n",
              "        vertical-align: top;\n",
              "    }\n",
              "\n",
              "    .dataframe thead th {\n",
              "        text-align: right;\n",
              "    }\n",
              "</style>\n",
              "<table border=\"1\" class=\"dataframe\">\n",
              "  <thead>\n",
              "    <tr style=\"text-align: right;\">\n",
              "      <th></th>\n",
              "      <th>Name</th>\n",
              "      <th>Surname</th>\n",
              "      <th>Age</th>\n",
              "      <th>Smokes</th>\n",
              "      <th>AreaQ</th>\n",
              "      <th>Alkhol</th>\n",
              "      <th>Result</th>\n",
              "    </tr>\n",
              "  </thead>\n",
              "  <tbody>\n",
              "    <tr>\n",
              "      <th>0</th>\n",
              "      <td>John</td>\n",
              "      <td>Wick</td>\n",
              "      <td>35</td>\n",
              "      <td>3</td>\n",
              "      <td>5</td>\n",
              "      <td>4</td>\n",
              "      <td>1</td>\n",
              "    </tr>\n",
              "    <tr>\n",
              "      <th>1</th>\n",
              "      <td>John</td>\n",
              "      <td>Constantine</td>\n",
              "      <td>27</td>\n",
              "      <td>20</td>\n",
              "      <td>2</td>\n",
              "      <td>5</td>\n",
              "      <td>1</td>\n",
              "    </tr>\n",
              "    <tr>\n",
              "      <th>2</th>\n",
              "      <td>Camela</td>\n",
              "      <td>Anderson</td>\n",
              "      <td>30</td>\n",
              "      <td>0</td>\n",
              "      <td>5</td>\n",
              "      <td>2</td>\n",
              "      <td>0</td>\n",
              "    </tr>\n",
              "    <tr>\n",
              "      <th>3</th>\n",
              "      <td>Alex</td>\n",
              "      <td>Telles</td>\n",
              "      <td>28</td>\n",
              "      <td>0</td>\n",
              "      <td>8</td>\n",
              "      <td>1</td>\n",
              "      <td>0</td>\n",
              "    </tr>\n",
              "    <tr>\n",
              "      <th>4</th>\n",
              "      <td>Diego</td>\n",
              "      <td>Maradona</td>\n",
              "      <td>68</td>\n",
              "      <td>4</td>\n",
              "      <td>5</td>\n",
              "      <td>6</td>\n",
              "      <td>1</td>\n",
              "    </tr>\n",
              "  </tbody>\n",
              "</table>\n",
              "</div>\n",
              "    <div class=\"colab-df-buttons\">\n",
              "\n",
              "  <div class=\"colab-df-container\">\n",
              "    <button class=\"colab-df-convert\" onclick=\"convertToInteractive('df-685d7f69-c988-435b-865d-dd0403606da7')\"\n",
              "            title=\"Convert this dataframe to an interactive table.\"\n",
              "            style=\"display:none;\">\n",
              "\n",
              "  <svg xmlns=\"http://www.w3.org/2000/svg\" height=\"24px\" viewBox=\"0 -960 960 960\">\n",
              "    <path d=\"M120-120v-720h720v720H120Zm60-500h600v-160H180v160Zm220 220h160v-160H400v160Zm0 220h160v-160H400v160ZM180-400h160v-160H180v160Zm440 0h160v-160H620v160ZM180-180h160v-160H180v160Zm440 0h160v-160H620v160Z\"/>\n",
              "  </svg>\n",
              "    </button>\n",
              "\n",
              "  <style>\n",
              "    .colab-df-container {\n",
              "      display:flex;\n",
              "      gap: 12px;\n",
              "    }\n",
              "\n",
              "    .colab-df-convert {\n",
              "      background-color: #E8F0FE;\n",
              "      border: none;\n",
              "      border-radius: 50%;\n",
              "      cursor: pointer;\n",
              "      display: none;\n",
              "      fill: #1967D2;\n",
              "      height: 32px;\n",
              "      padding: 0 0 0 0;\n",
              "      width: 32px;\n",
              "    }\n",
              "\n",
              "    .colab-df-convert:hover {\n",
              "      background-color: #E2EBFA;\n",
              "      box-shadow: 0px 1px 2px rgba(60, 64, 67, 0.3), 0px 1px 3px 1px rgba(60, 64, 67, 0.15);\n",
              "      fill: #174EA6;\n",
              "    }\n",
              "\n",
              "    .colab-df-buttons div {\n",
              "      margin-bottom: 4px;\n",
              "    }\n",
              "\n",
              "    [theme=dark] .colab-df-convert {\n",
              "      background-color: #3B4455;\n",
              "      fill: #D2E3FC;\n",
              "    }\n",
              "\n",
              "    [theme=dark] .colab-df-convert:hover {\n",
              "      background-color: #434B5C;\n",
              "      box-shadow: 0px 1px 3px 1px rgba(0, 0, 0, 0.15);\n",
              "      filter: drop-shadow(0px 1px 2px rgba(0, 0, 0, 0.3));\n",
              "      fill: #FFFFFF;\n",
              "    }\n",
              "  </style>\n",
              "\n",
              "    <script>\n",
              "      const buttonEl =\n",
              "        document.querySelector('#df-685d7f69-c988-435b-865d-dd0403606da7 button.colab-df-convert');\n",
              "      buttonEl.style.display =\n",
              "        google.colab.kernel.accessAllowed ? 'block' : 'none';\n",
              "\n",
              "      async function convertToInteractive(key) {\n",
              "        const element = document.querySelector('#df-685d7f69-c988-435b-865d-dd0403606da7');\n",
              "        const dataTable =\n",
              "          await google.colab.kernel.invokeFunction('convertToInteractive',\n",
              "                                                    [key], {});\n",
              "        if (!dataTable) return;\n",
              "\n",
              "        const docLinkHtml = 'Like what you see? Visit the ' +\n",
              "          '<a target=\"_blank\" href=https://colab.research.google.com/notebooks/data_table.ipynb>data table notebook</a>'\n",
              "          + ' to learn more about interactive tables.';\n",
              "        element.innerHTML = '';\n",
              "        dataTable['output_type'] = 'display_data';\n",
              "        await google.colab.output.renderOutput(dataTable, element);\n",
              "        const docLink = document.createElement('div');\n",
              "        docLink.innerHTML = docLinkHtml;\n",
              "        element.appendChild(docLink);\n",
              "      }\n",
              "    </script>\n",
              "  </div>\n",
              "\n",
              "\n",
              "<div id=\"df-6f497f17-4e2a-4b4c-bebd-9cb6eb08bf26\">\n",
              "  <button class=\"colab-df-quickchart\" onclick=\"quickchart('df-6f497f17-4e2a-4b4c-bebd-9cb6eb08bf26')\"\n",
              "            title=\"Suggest charts.\"\n",
              "            style=\"display:none;\">\n",
              "\n",
              "<svg xmlns=\"http://www.w3.org/2000/svg\" height=\"24px\"viewBox=\"0 0 24 24\"\n",
              "     width=\"24px\">\n",
              "    <g>\n",
              "        <path d=\"M19 3H5c-1.1 0-2 .9-2 2v14c0 1.1.9 2 2 2h14c1.1 0 2-.9 2-2V5c0-1.1-.9-2-2-2zM9 17H7v-7h2v7zm4 0h-2V7h2v10zm4 0h-2v-4h2v4z\"/>\n",
              "    </g>\n",
              "</svg>\n",
              "  </button>\n",
              "\n",
              "<style>\n",
              "  .colab-df-quickchart {\n",
              "      --bg-color: #E8F0FE;\n",
              "      --fill-color: #1967D2;\n",
              "      --hover-bg-color: #E2EBFA;\n",
              "      --hover-fill-color: #174EA6;\n",
              "      --disabled-fill-color: #AAA;\n",
              "      --disabled-bg-color: #DDD;\n",
              "  }\n",
              "\n",
              "  [theme=dark] .colab-df-quickchart {\n",
              "      --bg-color: #3B4455;\n",
              "      --fill-color: #D2E3FC;\n",
              "      --hover-bg-color: #434B5C;\n",
              "      --hover-fill-color: #FFFFFF;\n",
              "      --disabled-bg-color: #3B4455;\n",
              "      --disabled-fill-color: #666;\n",
              "  }\n",
              "\n",
              "  .colab-df-quickchart {\n",
              "    background-color: var(--bg-color);\n",
              "    border: none;\n",
              "    border-radius: 50%;\n",
              "    cursor: pointer;\n",
              "    display: none;\n",
              "    fill: var(--fill-color);\n",
              "    height: 32px;\n",
              "    padding: 0;\n",
              "    width: 32px;\n",
              "  }\n",
              "\n",
              "  .colab-df-quickchart:hover {\n",
              "    background-color: var(--hover-bg-color);\n",
              "    box-shadow: 0 1px 2px rgba(60, 64, 67, 0.3), 0 1px 3px 1px rgba(60, 64, 67, 0.15);\n",
              "    fill: var(--button-hover-fill-color);\n",
              "  }\n",
              "\n",
              "  .colab-df-quickchart-complete:disabled,\n",
              "  .colab-df-quickchart-complete:disabled:hover {\n",
              "    background-color: var(--disabled-bg-color);\n",
              "    fill: var(--disabled-fill-color);\n",
              "    box-shadow: none;\n",
              "  }\n",
              "\n",
              "  .colab-df-spinner {\n",
              "    border: 2px solid var(--fill-color);\n",
              "    border-color: transparent;\n",
              "    border-bottom-color: var(--fill-color);\n",
              "    animation:\n",
              "      spin 1s steps(1) infinite;\n",
              "  }\n",
              "\n",
              "  @keyframes spin {\n",
              "    0% {\n",
              "      border-color: transparent;\n",
              "      border-bottom-color: var(--fill-color);\n",
              "      border-left-color: var(--fill-color);\n",
              "    }\n",
              "    20% {\n",
              "      border-color: transparent;\n",
              "      border-left-color: var(--fill-color);\n",
              "      border-top-color: var(--fill-color);\n",
              "    }\n",
              "    30% {\n",
              "      border-color: transparent;\n",
              "      border-left-color: var(--fill-color);\n",
              "      border-top-color: var(--fill-color);\n",
              "      border-right-color: var(--fill-color);\n",
              "    }\n",
              "    40% {\n",
              "      border-color: transparent;\n",
              "      border-right-color: var(--fill-color);\n",
              "      border-top-color: var(--fill-color);\n",
              "    }\n",
              "    60% {\n",
              "      border-color: transparent;\n",
              "      border-right-color: var(--fill-color);\n",
              "    }\n",
              "    80% {\n",
              "      border-color: transparent;\n",
              "      border-right-color: var(--fill-color);\n",
              "      border-bottom-color: var(--fill-color);\n",
              "    }\n",
              "    90% {\n",
              "      border-color: transparent;\n",
              "      border-bottom-color: var(--fill-color);\n",
              "    }\n",
              "  }\n",
              "</style>\n",
              "\n",
              "  <script>\n",
              "    async function quickchart(key) {\n",
              "      const quickchartButtonEl =\n",
              "        document.querySelector('#' + key + ' button');\n",
              "      quickchartButtonEl.disabled = true;  // To prevent multiple clicks.\n",
              "      quickchartButtonEl.classList.add('colab-df-spinner');\n",
              "      try {\n",
              "        const charts = await google.colab.kernel.invokeFunction(\n",
              "            'suggestCharts', [key], {});\n",
              "      } catch (error) {\n",
              "        console.error('Error during call to suggestCharts:', error);\n",
              "      }\n",
              "      quickchartButtonEl.classList.remove('colab-df-spinner');\n",
              "      quickchartButtonEl.classList.add('colab-df-quickchart-complete');\n",
              "    }\n",
              "    (() => {\n",
              "      let quickchartButtonEl =\n",
              "        document.querySelector('#df-6f497f17-4e2a-4b4c-bebd-9cb6eb08bf26 button');\n",
              "      quickchartButtonEl.style.display =\n",
              "        google.colab.kernel.accessAllowed ? 'block' : 'none';\n",
              "    })();\n",
              "  </script>\n",
              "</div>\n",
              "    </div>\n",
              "  </div>\n"
            ]
          },
          "metadata": {},
          "execution_count": 6
        }
      ],
      "source": [
        "df=pd.read_csv(\"/content/lung_cancer_examples(1).csv\")\n",
        "df.head()"
      ]
    },
    {
      "cell_type": "code",
      "execution_count": 11,
      "metadata": {
        "id": "TIUsoW3jKQnU"
      },
      "outputs": [],
      "source": [
        "import pandas as pd\n",
        "import warnings\n",
        "warnings.filterwarnings('ignore')\n",
        "\n",
        "\n",
        "def read_csv():\n",
        "    # Method to read the CSV file \"lung_cancer_examples.csv\" using pandas.\n",
        "    df=pd.read_csv(\"lung_cancer_examples.csv\")\n",
        "    return df\n",
        "\n",
        "\n",
        "def check_duplicates():\n",
        "    df =read_csv()\n",
        "    # Method to check for duplicate rows in the DataFrame.\n",
        "    # Returns: The number of duplicated rows found in the DataFrame.\n",
        "    df=df.duplicated().sum()\n",
        "    return df\n",
        "\n",
        "\n",
        "\n",
        "def check_null_values():\n",
        "    df = read_csv()\n",
        "    # Method to check for null (missing) values in the DataFrame.\n",
        "    # Returns: A pandas Series indicating the count of null values for each column in the DataFrame.\n",
        "    df=df.isnull().sum()\n",
        "    return df\n",
        "\n",
        "\n",
        "def rename_column():\n",
        "    # do not edit the predefined function name\n",
        "    df = read_csv()\n",
        "    # Rename columns 'Alkhol' to 'Alcohol'.\n",
        "    df.rename(columns={\"Alkhol\":\"Alcohol\"},inplace=True)\n",
        "    return df\n",
        "\n",
        "\n",
        "def check_smoke_value():\n",
        "    # do not edit the predefined function name\n",
        "    data = rename_column()\n",
        "\n",
        "    # Count the occurrences of each unique value in the 'Smokes' column\n",
        "\n",
        "    data=data['Smokes'].value_counts()\n",
        "    # Return the counts of each unique smoking habit value\n",
        "    return data\n",
        "\n"
      ]
    },
    {
      "cell_type": "code",
      "source": [
        "import module1 as t1\n",
        "import pandas as pd\n",
        "\n",
        "\n",
        "\n",
        "\n",
        "# Function to categorize individuals based on the number of cigarettes smoked per day\n",
        "def categorize_smokers(x):\n",
        "\n",
        "    #If x is 0, categorize the person as 'Non-Smokers'.\n",
        "    if x==0:\n",
        "        return \"Non-Smokers\"\n",
        "    # If x is less than or equal to 2, categorize the person as 'Light Smokers'.\n",
        "    elif x<=2:\n",
        "        return \"Light Smokers\"\n",
        "    # If x is greater than 2 and less than or equal to 10, categorize the person as 'Mediocre Smokers'.\n",
        "    elif x>2 and x<=10:\n",
        "        return \"Mediocre Smokers\"\n",
        "    # If x is greater than 10, categorize the person as 'Heavy Smokers'.\n",
        "    else:\n",
        "        return \"Heavy Smokers\"\n",
        "\n",
        "    pass\n",
        "\n",
        "\n",
        "\n",
        "# Function to process the smoking data and add a new 'Smoking_Category' column\n",
        "def smokes():\n",
        "    # do not edit the predefined function name\n",
        "    data = t1.rename_column()\n",
        "\n",
        "    # Applying the 'categorize_smokers' function to each value in the 'Smokes' column\n",
        "    data[\"Smoking_Category\"]=data[\"Smokes\"].map(categorize_smokers)\n",
        "    # and storing the result in a new column 'Smoking_Category'\n",
        "\n",
        "    # Returning the modified dataset with the new 'Smoking_Category' column\n",
        "    return data\n",
        "\n",
        "\n",
        "\n",
        "\n",
        "def check_alcohol_value():\n",
        "    # do not edit the predefined function name\n",
        "    data = smokes()\n",
        "\n",
        "    data=data[\"Alcohol\"].value_counts()\n",
        "    # Count the occurrences of each unique value in the 'Alcohol' column\n",
        "    # Return the counts of each unique smoking habit value\n",
        "    return data\n",
        "\n",
        "\n",
        "\n",
        "\n",
        "\n",
        "\n",
        "\n",
        "# Function to categorize individuals based on the number of alcohol drinks consumed per day\n",
        "def categorize_alcohol(x):\n",
        "    if x==0:\n",
        "        return 'Non-Drinkers'\n",
        "    # If x is 0, categorize the person as 'Non-Drinkers'.\n",
        "    elif x<=2:\n",
        "        return \"Light Drinkers\"\n",
        "    # If x is less than or equal to 2, categorize the person as 'Light Drinkers'.\n",
        "    elif x>2 and x<=10:\n",
        "        return  'Mediocre Drinkers'\n",
        "    # If x is greater than 2 and less than or equal to 10, categorize the person as 'Mediocre Drinkers'.\n",
        "    else:\n",
        "        return \"Heavy Drinkers\"\n",
        "    # If x is greater than 10, categorize the person as 'Heavy Drinkers'.\n",
        "    pass\n",
        "\n",
        "\n",
        "# Function to process the alcohol data and add a new 'Alcohol_Category' column\n",
        "def alkhol():\n",
        "    # Assuming the 'smokes()' function retrieves the dataset with the 'Smokes' column and the 'Alcohol' column\n",
        "    data = smokes()\n",
        "    # Applying the 'categorize_alcohol' function to each value in the 'Alcohol' column\n",
        "    # and storing the result in a new column 'Alcohol_Category'\n",
        "    data[\"Alcohol_Category\"]=data[\"Alcohol\"].map(categorize_alcohol)\n",
        "\n",
        "    # Returning the modified dataset with the new 'Alcohol_Category' column\n",
        "    return data\n",
        "\n",
        "\n",
        "\n",
        "\n",
        "def export_the_dataset():\n",
        "    # do not edit the predefined function name\n",
        "    df = alkhol()\n",
        "    # write your code to export the cleaned dataset and set the index=false and return the same as 'df'\n",
        "    df.to_csv('lung_cancer.csv', index=False)\n",
        "    return df"
      ],
      "metadata": {
        "id": "17_lqwLwz0CO"
      },
      "execution_count": null,
      "outputs": []
    },
    {
      "cell_type": "markdown",
      "source": [
        "# **MYSQL**"
      ],
      "metadata": {
        "id": "xtW-GV6p1OSt"
      }
    },
    {
      "cell_type": "markdown",
      "source": [
        "How many values are there in the given dataset"
      ],
      "metadata": {
        "id": "qkmQJ5Qg1NHG"
      }
    },
    {
      "cell_type": "code",
      "source": [
        "select count(*) from lung_cancer;"
      ],
      "metadata": {
        "id": "UJR0dgWLz5Lv"
      },
      "execution_count": null,
      "outputs": []
    },
    {
      "cell_type": "markdown",
      "source": [
        "Select the average age of individuals in the given dataset"
      ],
      "metadata": {
        "id": "5qaMJ-1g1KF2"
      }
    },
    {
      "cell_type": "code",
      "source": [
        "SELECT Avg(Age) as AVG_AGE from lung_cancer"
      ],
      "metadata": {
        "id": "VGEty7C3z8WH"
      },
      "execution_count": null,
      "outputs": []
    },
    {
      "cell_type": "markdown",
      "source": [
        "Select the total count of 'Smokers' in the given dataset"
      ],
      "metadata": {
        "id": "e2Eqitq31HEd"
      }
    },
    {
      "cell_type": "code",
      "source": [
        "SELECT count(distinct Smoking_category) FROM lung_cancer where Smoking_category!='Non-Smokers'"
      ],
      "metadata": {
        "id": "jqvSSElq0CBb"
      },
      "execution_count": null,
      "outputs": []
    },
    {
      "cell_type": "markdown",
      "source": [
        "Select the 'Name', 'Age', and 'Alcohol Category' columns for 'Mediocare Drinkers'"
      ],
      "metadata": {
        "id": "Jd8GtreM1DbP"
      }
    },
    {
      "cell_type": "code",
      "source": [
        "SELECT Name,Age,Alcohol_Category from lung_cancer\n",
        "where Alcohol_Category='Mediocre Drinkers'\n",
        "group by Name,Age,Alcohol_Category"
      ],
      "metadata": {
        "id": "S_BWb4f60EpH"
      },
      "execution_count": null,
      "outputs": []
    },
    {
      "cell_type": "markdown",
      "source": [
        "Select the 'Name' and 'Age' of the oldest individual in the given dataset."
      ],
      "metadata": {
        "id": "-KZxqS-x07in"
      }
    },
    {
      "cell_type": "code",
      "source": [
        "SELECT Name,Age FROM lung_cancer GROUP by Name,Age order by Age DESC limit 2"
      ],
      "metadata": {
        "id": "LuG3-Kzz0Hiq"
      },
      "execution_count": null,
      "outputs": []
    },
    {
      "cell_type": "markdown",
      "source": [
        "Select the 'Name' and 'Surname' of individuals whose names start with 'A'."
      ],
      "metadata": {
        "id": "2ZnRapSM03wJ"
      }
    },
    {
      "cell_type": "code",
      "source": [
        "SELECT Name,Surname FROM lung_cancer WHERE Name LIKE'A%'"
      ],
      "metadata": {
        "id": "IK43q4-E0KYg"
      },
      "execution_count": null,
      "outputs": []
    },
    {
      "cell_type": "markdown",
      "source": [
        "Select the 'Name', 'Age', and 'Alcohol' columns for individuals who are both 'Heavy Smokers' and 'Mediocare Drinkers"
      ],
      "metadata": {
        "id": "T7jYLE3e0yBI"
      }
    },
    {
      "cell_type": "code",
      "source": [
        "select Name,Age,Alcohol from lung_cancer where Smoking_Category= 'Heavy Smokers' and Alcohol_Category= 'Mediocre Drinkers' group by Name,Age,Alcohol"
      ],
      "metadata": {
        "id": "Yh8tA0Mu0OgY"
      },
      "execution_count": null,
      "outputs": []
    },
    {
      "cell_type": "markdown",
      "source": [
        "Find out the percentage of lung cancer for individuals whose age is greater than 18.\n",
        "\n",
        "Hint: Result column specifies the cancer detection.\n",
        "\n",
        "Note : Use 100.0 while finding the percentage."
      ],
      "metadata": {
        "id": "rOVs0XSE0upw"
      }
    },
    {
      "cell_type": "code",
      "source": [
        "SELECT Result,count(*),count(*)*100.0/sum(count(*)) over()FROM `lung_cancer` WHERE age>18 group by Result"
      ],
      "metadata": {
        "id": "j9jI-nJH0R_N"
      },
      "execution_count": null,
      "outputs": []
    },
    {
      "cell_type": "markdown",
      "source": [
        "Select the names and ages of individuals whose names contain the word \"John\"."
      ],
      "metadata": {
        "id": "QUhSqgJV0pEW"
      }
    },
    {
      "cell_type": "code",
      "source": [
        "SELECT name,age FROM `lung_cancer` WHERE name like '%John%' or Surname like'John' group by name,age"
      ],
      "metadata": {
        "id": "G424zPB-0Uvb"
      },
      "execution_count": null,
      "outputs": []
    },
    {
      "cell_type": "markdown",
      "source": [
        "Find the count of people who have lung cancer with different 'Smoking Category'."
      ],
      "metadata": {
        "id": "TWdgX3D40c94"
      }
    },
    {
      "cell_type": "code",
      "source": [
        "SELECT Smoking_Category,count(Result) FROM lung_cancer where Result='1' GROUP by Smoking_Category\n"
      ],
      "metadata": {
        "id": "ZIbzapQH0VY0"
      },
      "execution_count": null,
      "outputs": []
    },
    {
      "cell_type": "markdown",
      "source": [
        "Find the count of people who have lung cancer with different 'Alcohol Category'."
      ],
      "metadata": {
        "id": "Ue7ebfgo0caY"
      }
    },
    {
      "cell_type": "code",
      "source": [
        "SELECT Alcohol_Category,count(Result) FROM lung_cancer where result='1' GROUP by Alcohol_Category"
      ],
      "metadata": {
        "id": "EIwu2IGR0bTP"
      },
      "execution_count": null,
      "outputs": []
    }
  ],
  "metadata": {
    "colab": {
      "provenance": [],
      "authorship_tag": "ABX9TyMU2q+U6R1/MzXVYhiCqgRH",
      "include_colab_link": true
    },
    "kernelspec": {
      "display_name": "Python 3",
      "name": "python3"
    },
    "language_info": {
      "name": "python"
    }
  },
  "nbformat": 4,
  "nbformat_minor": 0
}